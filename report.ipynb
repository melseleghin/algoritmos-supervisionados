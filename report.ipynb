{
 "cells": [
  {
   "cell_type": "markdown",
   "id": "249ec571",
   "metadata": {},
   "source": [
    "# Algoritmos Supervisionados\n",
    "\n",
    "Este relatório descreve como foram aplicados algoritmos supervisionados na base de dados CovType. Também contém escolhas e justificativas dos parâmetros e técnicas utilizadas, assim como uma indicação objetiva de qual algoritmo é melhor para a base selecionada.\n",
    "\n",
    "## Base de Dados CovType\n",
    "\n",
    "A base de dados **CovType** contém informações sobre uma grande quantidade de dados relacionados à cobertura florestal, com o objetivo de classificar diferentes tipos de vegetação em uma área geográfica. O conjunto de dados foi originalmente coletado no estado do Colorado, nos Estados Unidos, e é frequentemente utilizado em estudos de aprendizado de máquina, especialmente para problemas de classificação.\n",
    "\n",
    "### Características da Base de Dados:\n",
    "- **Número de amostras**: 581.012 instâncias (linhas de dados).\n",
    "- **Atributos**: 54 características, incluindo variáveis numéricas relacionadas ao ambiente, como:\n",
    "  - Elevation (altitude),\n",
    "  - Aspect (orientação da encosta),\n",
    "  - Slope (declive),\n",
    "  - Distância até cursos d'água,\n",
    "  - Dados sobre a vegetação local (como tipo de cobertura florestal).\n",
    "  \n",
    "- **Objetivo**: A tarefa principal é classificar o tipo de cobertura do terreno, que é uma variável categórica com 7 classes possíveis de cobertura florestal (por exemplo, florestas de coníferas, florestas de árvores de folha larga, etc.).\n",
    "\n",
    "### Comportamento em algoritmos supervisionados\n",
    "\n",
    "A base de dados **CovType** é ótima para testar algoritmos de aprendizado supervisionado, porque possui muitas informações (mais de 580 mil registros) e várias características ambientais, como a elevação e a proximidade de rios, que ajudam a classificar diferentes tipos de vegetação. Cada registro na base contém essas características e um tipo de cobertura florestal, que é a \"resposta\" que o algoritmo precisa aprender a prever. A tarefa é classificar o tipo de vegetação em uma de sete categorias, o que torna o problema um caso de classificação multiclasse. Como a base tem muitos dados e diferentes tipos de informações, ela permite que os algoritmos encontrem padrões complexos, como quais características estão mais associadas a um tipo de floresta específico. Além disso, apesar de algumas classes de vegetação aparecerem mais vezes que outras (ou seja, a base é desbalanceada), ainda assim é possível treinar modelos que aprendem a fazer previsões de forma precisa, se bem aplicados."
   ]
  },
  {
   "cell_type": "markdown",
   "id": "3027fa43",
   "metadata": {},
   "source": [
    "# Análise Exploratória de Dados CovType\n",
    "\n",
    "Neste relatório, será realizada uma análise exploratória da base de dados CovType, com o objetivo de compreender melhor suas características antes da aplicação de algoritmos supervisionados. Serão apresentados dados gerais do conjunto, como quantidade de amostras e variáveis, além de informações sobre a presença de valores ausentes. Também analisaremos a distribuição da variável alvo (Cover_Type), a distribuição das variáveis numéricas, a correlação entre atributos e a composição das variáveis categóricas relacionadas a áreas selvagens e tipos de solo. Essa análise inicial é fundamental para identificar padrões, possíveis desequilíbrios e particularidades dos dados que poderão influenciar a escolha e a preparação dos modelos de aprendizado supervisionado."
   ]
  },
  {
   "cell_type": "markdown",
   "id": "fc708e59",
   "metadata": {},
   "source": [
    "1. Carregamento e Primeira Visão dos Dados"
   ]
  },
  {
   "cell_type": "code",
   "execution_count": null,
   "id": "494c426f",
   "metadata": {},
   "outputs": [],
   "source": [
    "from sklearn.datasets import fetch_covtype\n",
    "import pandas as pd\n",
    "\n",
    "# Carregar a base\n",
    "cov_type = fetch_covtype()\n",
    "df = pd.DataFrame(cov_type.data, columns=cov_type.feature_names)\n",
    "\n",
    "# Adicionar a variável alvo (Cover_Type)\n",
    "df['Cover_Type'] = cov_type.target\n",
    "\n",
    "# Estatísticas descritivas\n",
    "df.describe()"
   ]
  },
  {
   "cell_type": "markdown",
   "id": "86af0364",
   "metadata": {},
   "source": [
    "A análise descritiva da base CovType revela um conjunto de dados com grande diversidade nas características do terreno. A elevação média é de cerca de 2959 metros, com variações significativas, indo de 1859 a 3858 metros. O aspecto (orientação do terreno) tem uma média de 156 graus, variando bastante entre 0 e 360 graus. A declividade média é de 14,1 graus, com alguns terrenos mais íngremes, chegando a 66 graus.\n",
    "\n",
    "As distâncias para diferentes pontos, como fontes de água e rodovias, também mostram grande dispersão. Por exemplo, a distância média até rodovias é de 2350 metros, mas pode variar de 0 a 7117 metros. Além disso, o tipo de solo é amplamente distribuído, com muitos tipos diferentes de solos representados na base.\n",
    "\n",
    "Em resumo, os dados revelam uma grande variabilidade nas características do terreno, o que sugere que o modelo de previsão precisará lidar com essa diversidade para fazer boas previsões sobre o tipo de cobertura do terreno. Para isso, decidimos normalizar os dados e aplicar PCA."
   ]
  },
  {
   "cell_type": "markdown",
   "id": "7b101bab",
   "metadata": {},
   "source": [
    "2. Análise da Variável Alvo (Cover_Type)"
   ]
  },
  {
   "cell_type": "code",
   "execution_count": null,
   "id": "eaec2dd7",
   "metadata": {},
   "outputs": [],
   "source": [
    "import seaborn as sns\n",
    "import matplotlib.pyplot as plt\n",
    "\n",
    "# Contagem das classes\n",
    "df['Cover_Type'].value_counts()\n",
    "\n",
    "# Gráfico da distribuição das classes\n",
    "sns.countplot(x='Cover_Type', data=df)\n",
    "plt.title('Distribuição das Classes de Cover Type')\n",
    "plt.xlabel('Tipo de Vegetação')\n",
    "plt.ylabel('Quantidade')\n",
    "plt.show()"
   ]
  },
  {
   "cell_type": "markdown",
   "id": "759123b3",
   "metadata": {},
   "source": [
    "Esse gráfico nos mostra que 'Cover_Type' é uma variável discreta, e não contínua. Ou seja, algoritmos de classificação são os mais indicados para agrupar essa base de dados."
   ]
  },
  {
   "cell_type": "markdown",
   "id": "7a5a058d",
   "metadata": {},
   "source": [
    "3. Análise das Variáveis Numéricas"
   ]
  },
  {
   "cell_type": "code",
   "execution_count": null,
   "id": "26c99aac",
   "metadata": {},
   "outputs": [],
   "source": [
    "# Histograma de todas as variáveis\n",
    "df.hist(figsize=(20, 20), bins=30)\n",
    "plt.tight_layout()\n",
    "plt.show()"
   ]
  },
  {
   "cell_type": "markdown",
   "id": "277cbf50",
   "metadata": {},
   "source": [
    "O histograma de todas as variáveis mostra como os dados estão distribuídos. Algumas variáveis, como distâncias para rodovias ou incêndios, têm distribuições assimétricas, com muitos valores concentrados em uma faixa e alguns poucos valores muito distantes, indicando outliers. Outras variáveis, como a elevação, podem ter distribuições mais próximas de uma curva normal, com a maioria dos dados agrupados em torno de um valor central. Também é possível notar picos em algumas distribuições, que são indicativos de outliers, ou seja, valores extremos que estão bem afastados do restante dos dados. \n",
    "\n",
    "Além disso, no caso dos 40 tipos de solo da base CovType, 0 indica que o tipo de solo não está presente, e 1 indica que o tipo de solo está presente.\n",
    "Portanto, os histogramas mostram a distribuição desses valores binários (0 ou 1) para cada tipo de solo, com a maioria dos pontos de dados exibindo 0, ou seja, indicando que o tipo de solo não está presente. A quantidade de 1 indica a presença desse tipo de solo, mas de forma esparsa, já que nem todos os pontos têm o mesmo tipo de solo.\n",
    "\n",
    "Esses padrões são importantes para entender a natureza dos dados e decidir como tratá-los antes de aplicar modelos de machine learning."
   ]
  },
  {
   "cell_type": "markdown",
   "id": "bd331f26",
   "metadata": {},
   "source": [
    "4. Matriz de Correlação"
   ]
  },
  {
   "cell_type": "code",
   "execution_count": null,
   "id": "68fabbc0",
   "metadata": {},
   "outputs": [],
   "source": [
    "# Matriz de correlação\n",
    "corr = df.corr()\n",
    "\n",
    "plt.figure(figsize=(16, 12))\n",
    "sns.heatmap(corr, cmap='coolwarm')\n",
    "plt.title('Matriz de Correlação entre Variáveis')\n",
    "plt.show()"
   ]
  },
  {
   "cell_type": "markdown",
   "id": "8812ec0d",
   "metadata": {},
   "source": [
    "O que podemos inferir do heatmap:\n",
    "\n",
    "1. Diagonal principal:\n",
    "\n",
    "* Todos os valores na diagonal são 1.0 (vermelho escuro), pois cada variável é perfeitamente correlacionada com ela mesma.\n",
    "\n",
    "2. Correlação fraca entre a maioria das variáveis:\n",
    "\n",
    "* Fora da diagonal, a maioria das correlações está em tons claros ou azulados, indicando baixa ou nenhuma correlação entre muitas variáveis (valores próximos de 0).\n",
    "\n",
    "3. Algumas correlações notáveis:\n",
    "\n",
    "* Existe correlação moderada entre algumas variáveis:\n",
    "\n",
    "    * Elevation com Vertical_Distance_To_Hydrology (ligeiramente positiva).\n",
    "\n",
    "    * Horizontal_Distance_To_Hydrology com Horizontal_Distance_To_Fire_Points (também mostra alguma correlação).\n",
    "\n",
    "* Variáveis como Hillshade_9am, Hillshade_Noon e Hillshade_3pm mostram alguma correlação entre si, o que é esperado, já que todas se referem à incidência de luz solar em diferentes horários.\n",
    "\n",
    "4. Variáveis one-hot encoded:\n",
    "\n",
    "* Soil_Type_0 até Soil_Type_39 e Wilderness_Area_0 até Wilderness_Area_3 têm correlações próximas de zero entre si (esperado, pois são codificações binárias mutuamente exclusivas).\n",
    "\n",
    "* Estas colunas não têm relação direta entre si, como esperado em uma codificação one-hot.\n",
    "\n",
    "5. Variável alvo (Cover_Type):\n",
    "\n",
    "* Está incluída no canto inferior direito.\n",
    "\n",
    "* Apresenta correlação muito fraca com todas as variáveis, indicando que nenhuma variável individual explica bem a variável alvo — o que é comum em problemas mais complexos de classificação, exigindo modelos mais sofisticados (ex: florestas aleatórias)."
   ]
  },
  {
   "cell_type": "markdown",
   "id": "88e2e3a7",
   "metadata": {},
   "source": [
    "# Escolha dos algoritmos utilizados\n",
    "\n",
    "Para a base selecionada, a equipe decidiu, dentre as opções disponíveis (KNN, Regressão Linear e Naive Bayes), aplicar KNN e Naive Bayes. \n",
    "\n",
    "## Por quê KNN?\n",
    "\n",
    "O KNN é um algoritmo eficaz para problemas de classificação multiclasse, como o da base de dados CovType, que visa classificar diferentes tipos de vegetação. Além disso, o KNN não faz suposições sobre a distribuição dos dados, o que é vantajoso, pois a base de dados contém características ambientais que podem não seguir uma distribuição conhecida. No entanto, o KNN pode ser computacionalmente caro e sensível à dimensionalidade dos dados, mas ele ainda se destaca pela sua capacidade de lidar bem com a classificação de instâncias com base na proximidade, algo adequado para este tipo de tarefa.\n",
    "\n",
    "## Por quê Naive Bayes?\n",
    "\n",
    "Por outro lado, o Naive Bayes é simples, rápido e ideal para problemas de classificação multiclasse. Ele é particularmente eficiente para grandes volumes de dados, como os da base CovType, e lida bem com variáveis contínuas, como aquelas presentes no conjunto de dados. Embora o Naive Bayes faça a suposição de que as variáveis são independentes, o que pode nem sempre ser o caso, ele ainda tende a ter um bom desempenho na prática, especialmente em tarefas de classificação com várias classes.\n",
    "\n",
    "## Por quê não escolhemos Regressão Linear?\n",
    "\n",
    "A Regressão Linear, por sua vez, não é a melhor escolha para este problema, pois é um modelo de regressão e não de classificação. Embora existam formas de adaptar a regressão linear para classificação (como em regressão logística), ela não foi projetada para lidar diretamente com problemas de classificação multiclasse como o da base CovType. Além disso, a regressão linear pressupõe que as variáveis possuem uma relação linear com a variável alvo, o que é uma suposição forte e provavelmente não se aplica à classificação de tipos de vegetação, que envolve relações mais complexas."
   ]
  },
  {
   "cell_type": "markdown",
   "id": "4160487f",
   "metadata": {},
   "source": [
    "# Algoritmo Naive Bayes\n",
    "\n"
   ]
  },
  {
   "cell_type": "markdown",
   "id": "5db5d809",
   "metadata": {},
   "source": [
    "Primeiramente, importamos as bibliotecas necessárias, carregamos o dataset e verificamos o formato dos dados para garantir que as variáveis X (atributos) e y (rótulos) estejam no formato esperado antes de prosseguir com a modelagem. Isso ajuda a garantir que os dados foram carregados corretamente e que não há problemas com a estrutura, como tamanhos incompatíveis ou dados faltantes."
   ]
  },
  {
   "cell_type": "code",
   "execution_count": null,
   "id": "bb47eb7f",
   "metadata": {},
   "outputs": [],
   "source": [
    "# Importando as bibliotecas necessárias\n",
    "from sklearn.datasets import fetch_covtype\n",
    "from sklearn.model_selection import train_test_split\n",
    "from sklearn.model_selection import train_test_split\n",
    "import matplotlib.pyplot as plt\n",
    "import numpy as np\n",
    "\n",
    "# Carregando o dataset\n",
    "data = fetch_covtype()\n",
    "X = data.data\n",
    "y = data.target\n",
    "\n",
    "# Verificando o formato dos dados\n",
    "print(\"Formato de X (atributos):\", X.shape)\n",
    "print(\"Formato de y (rótulos):\", y.shape)\n"
   ]
  },
  {
   "cell_type": "markdown",
   "id": "3bb4a6a5",
   "metadata": {},
   "source": [
    "Depois, dividimos os dados entre treino (80%) e teste (20%), pois proporciona um bom equilíbrio entre a quantidade de dados para treinar o modelo e a quantidade para testar o modelo, permitindo uma avaliação confiável. Para o teste, 20% é uma quantidade comum usada para validação e avaliação do desempenho do modelo em dados que ele não viu. Já o random_state é uma \"semente\" que garante que, todas as vezes que o código for executado, a divisão dos dados sempre será a mesma. Poderíamos ter escolhido qualquer número inteiro não negativo, mas escolhemos o 42 por convenção."
   ]
  },
  {
   "cell_type": "code",
   "execution_count": null,
   "id": "00e032d5",
   "metadata": {},
   "outputs": [],
   "source": [
    "# Dividindo os dados entre treino e teste (80% treino, 20% teste)\n",
    "X_train, X_test, y_train, y_test = train_test_split(X, y, test_size=0.2, random_state=42)\n",
    "\n",
    "# Verificando as dimensões dos dados divididos\n",
    "print(\"Tamanho de X_train:\", X_train.shape)\n",
    "print(\"Tamanho de X_test:\", X_test.shape)\n",
    "print(\"Tamanho de y_train:\", y_train.shape)\n",
    "print(\"Tamanho de y_test:\", y_test.shape)"
   ]
  },
  {
   "cell_type": "markdown",
   "id": "c5facbd8",
   "metadata": {},
   "source": [
    "Agora, precisamos normalizar os dados, decisão tomada com base na observação das estatísticas descritivas da Covertype. A presença de atributos com magnitudes significativamente diferentes (por exemplo, elevação vs. distâncias a hidrologia/estradas) tornam uma boa prática a normalização dos dados. Além disso, decidimos também aplicar PCA, pelos seguintes motivos:\n",
    "-  Redução da Dimensionalidade: Reduz a complexidade do modelo e o tempo de treinamento, mantendo a maior parte da informação relevante.\n",
    "-  Eliminação de Multicolinearidade: Eliminar a multicolinearidade e reduzir redundâncias nas variáveis, o que melhora a generalização do modelo.\n",
    "-  Aumento da Performance do Modelo: Melhorar o tempo de execução do modelo e, em alguns casos, aumentar a performance geral ao reduzir o risco de overfitting.\n",
    "-  Ruído nos Dados: Focar nas informações mais relevantes e eliminar variações que são apenas ruído."
   ]
  },
  {
   "cell_type": "code",
   "execution_count": null,
   "id": "43be5977",
   "metadata": {},
   "outputs": [],
   "source": [
    "from sklearn.preprocessing import StandardScaler\n",
    "from sklearn.decomposition import PCA\n",
    "\n",
    "# Normalização dos dados\n",
    "scaler = StandardScaler()\n",
    "X_train_scaled = scaler.fit_transform(X_train)\n",
    "X_test_scaled = scaler.transform(X_test)\n",
    "\n",
    "pca = PCA(n_components=0.95)  \n",
    "X_train_scaled = pca.fit_transform(X_train_scaled)\n",
    "X_test_scaled = pca.transform(X_test_scaled)\n",
    "\n",
    "print(f\"Número de componentes que explicam 95% da variância: {pca.n_components_}\")\n",
    "\n",
    "plt.figure(figsize=(10, 5))\n",
    "plt.plot(np.cumsum(pca.explained_variance_ratio_), marker='o')\n",
    "plt.xlabel('Número de Componentes')\n",
    "plt.ylabel('Variância Explicada Acumulada')\n",
    "plt.title('PCA - Variância Explicada Acumulada')\n",
    "plt.grid(True)\n",
    "plt.axhline(y=0.95, color='r', linestyle='--') \n",
    "plt.show()\n"
   ]
  },
  {
   "cell_type": "markdown",
   "id": "6e0173d2",
   "metadata": {},
   "source": [
    "A seguir, podemos partir para a aplicação do algoritmo supervisionado em si.\n",
    "\n",
    "O trecho de código abaixo implementa o treinamento e a utilização do modelo de Naive Bayes para classificação. Primeiro, o classificador GaussianNB é importado da biblioteca sklearn.naive_bayes. Esse classificador é baseado no Teorema de Bayes e assume que as características das variáveis seguem uma distribuição normal.\n",
    "\n",
    "Em seguida, o modelo é instanciado com a criação do objeto nb_model, que será responsável por fazer as previsões. Para treinar o modelo, o método fit() é utilizado, passando os dados de treinamento normalizados (X_train_scaled) e os rótulos correspondentes (y_train). Isso ajusta o modelo aos dados de entrada, permitindo que ele aprenda a relação entre as features e o target.\n",
    "\n",
    "Depois de treinado, o modelo é usado para prever os rótulos dos dados de teste (X_test_scaled) com o método predict(). Essas previsões são armazenadas na variável y_pred. Por fim, o código exibe os primeiros 10 exemplos das previsões geradas, dando uma amostra dos resultados do modelo."
   ]
  },
  {
   "cell_type": "code",
   "execution_count": null,
   "id": "a151e3d7",
   "metadata": {},
   "outputs": [],
   "source": [
    "# Treinando o modelo Naybe Bayes e fazendo predições\n",
    "from sklearn.naive_bayes import GaussianNB\n",
    "\n",
    "# Criando o classificador Naive Bayes\n",
    "nb_model = GaussianNB()\n",
    "\n",
    "# Treinando o modelo com os dados de treino normalizados\n",
    "nb_model.fit(X_train_scaled, y_train)\n",
    "\n",
    "# Fazendo previsões com os dados de teste normalizados\n",
    "y_pred = nb_model.predict(X_test_scaled)\n",
    "\n",
    "# Mostrando uma amostra das previsões\n",
    "print(\"Exemplos de previsões:\", y_pred[:10])"
   ]
  },
  {
   "cell_type": "markdown",
   "id": "b46d098f",
   "metadata": {},
   "source": [
    "O último trecho de código se dedica a avaliar o desempenho do modelo de Naive Bayes utilizando várias métricas de avaliação e visualizando os resultados por meio de gráficos.\n",
    "\n",
    "Primeiramente, o código calcula as principais métricas de desempenho para o modelo usando os dados de teste (y_test) e as previsões (y_pred). São calculados:\n",
    "\n",
    "- Acurácia: A porcentagem de previsões corretas realizadas pelo modelo.\n",
    "\n",
    "- Precisão (Precision): A proporção de verdadeiros positivos entre todas as previsões positivas feitas pelo modelo, ponderada pelo número de instâncias em cada classe.\n",
    "\n",
    "- Recall: A proporção de verdadeiros positivos entre todos os casos reais positivos, também ponderada por classe.\n",
    "\n",
    "Essas métricas são impressas no console, arredondadas para quatro casas decimais para uma leitura mais clara.\n",
    "\n",
    "Em seguida, o código cria e exibe a matriz de confusão. A matriz é uma ferramenta útil para entender como o modelo está classificando as diferentes classes. Ela mostra os verdadeiros positivos, falsos positivos, verdadeiros negativos e falsos negativos para cada classe. A matriz é visualizada com o uso da biblioteca seaborn, gerando um gráfico de calor para facilitar a análise."
   ]
  },
  {
   "cell_type": "code",
   "execution_count": null,
   "id": "ce3abeec",
   "metadata": {},
   "outputs": [],
   "source": [
    "# Avaliando o desempenho do modelo Naive Bayes\n",
    "\n",
    "from sklearn.metrics import accuracy_score, precision_score, recall_score, confusion_matrix, classification_report\n",
    "import seaborn as sns\n",
    "import matplotlib.pyplot as plt\n",
    "\n",
    "# Calculando métricas\n",
    "accuracy = accuracy_score(y_test, y_pred)\n",
    "precision = precision_score(y_test, y_pred, average='weighted') \n",
    "recall = recall_score(y_test, y_pred, average='weighted')\n",
    "\n",
    "print(\"Acurácia:\", round(accuracy, 4))\n",
    "print(\"Precisão:\", round(precision, 4))\n",
    "print(\"Recall:\", round(recall, 4))\n",
    "\n",
    "# Matriz de confusão\n",
    "cm = confusion_matrix(y_test, y_pred)\n",
    "\n",
    "# Exibindo matriz de confusão com seaborn\n",
    "plt.figure(figsize=(10, 7))\n",
    "sns.heatmap(cm, annot=True, fmt='d', cmap='Blues')\n",
    "plt.xlabel(\"Classe Predita\")\n",
    "plt.ylabel(\"Classe Real\")\n",
    "plt.title(\"Matriz de Confusão - Naive Bayes\")\n",
    "plt.show()"
   ]
  },
  {
   "cell_type": "markdown",
   "id": "6459e465",
   "metadata": {},
   "source": [
    "## 📊 Análise da Matriz de Confusão – Naive Bayes\n",
    "\n",
    "A matriz de confusão abaixo mostra o desempenho do classificador **Naive Bayes** na predição da variável `Cover_Type`, que possui **7 classes (0 a 6)**.\n",
    "\n",
    "Cada **linha** representa a **classe real**, enquanto cada **coluna** representa a **classe predita**. Os valores indicam a quantidade de amostras.\n",
    "\n",
    "---\n",
    "\n",
    "### 📌 Análise por Classe\n",
    "\n",
    "#### Classe 0 (real):\n",
    "- ✅ **36.703** acertos como 0.\n",
    "- ❌ Erros comuns:\n",
    "  - **3.300** confundidas com classe 4.\n",
    "  - **1.570** com classe 6.\n",
    "\n",
    "#### Classe 1 (real):\n",
    "- ✅ **5.428** acertos.\n",
    "- ❌ Muitos erros:\n",
    "  - **37.686** classificadas como 0.\n",
    "  - **10.454** como 4.\n",
    "  - **776** como 2.\n",
    "- ➤ **Alta confusão com a classe 0**, o que indica que essas classes têm características muito semelhantes.\n",
    "\n",
    "#### Classe 2 (real):\n",
    "- ✅ **4.194** acertos.\n",
    "- ❌ Erros:\n",
    "  - **1.407** como classe 4.\n",
    "  - **1.126** como classe 3.\n",
    "\n",
    "#### Classe 3 (real):\n",
    "- ✅ Apenas **359** acertos.\n",
    "- ❌ Baixo desempenho:\n",
    "  - **151** confundidas com classe 2.\n",
    "\n",
    "#### Classe 4 (real):\n",
    "- ✅ **1.026** acertos.\n",
    "- ❌ **710** confundidas com classe 0.\n",
    "\n",
    "#### Classe 5 (real):\n",
    "- ✅ **1.555** acertos.\n",
    "- ❌ Muitos erros distribuídos em:\n",
    "  - Classes 0, 2 e 3.\n",
    "\n",
    "#### Classe 6 (real):\n",
    "- ✅ **995** acertos.\n",
    "- ❌ **2.929** confundidas como classe 0.\n",
    "\n",
    "---\n",
    "\n",
    "### 🔍 Conclusões\n",
    "\n",
    "- O modelo teve desempenho **razoável apenas na classe 0**.\n",
    "- Houve **forte confusão entre as classes 0, 1 e 4**.\n",
    "- O **Naive Bayes não se adequou bem à base**, provavelmente por:\n",
    "  - **Alta correlação entre variáveis** (violando a suposição de independência do modelo).\n",
    "  - **Distribuições complexas** nas variáveis contínuas.\n",
    "  - **Desbalanceamento entre as classes**.\n"
   ]
  },
  {
   "cell_type": "markdown",
   "id": "a8ce146e",
   "metadata": {},
   "source": [
    "\n",
    "Por fim, o relatório de classificação é exibido, fornecendo uma visão mais detalhada do desempenho do modelo para cada classe individualmente. Esse relatório inclui métricas como precisão, recall e F1-score para cada classe."
   ]
  },
  {
   "cell_type": "code",
   "execution_count": null,
   "id": "79ef35c2",
   "metadata": {},
   "outputs": [],
   "source": [
    "# Relatório completo\n",
    "print(\"\\nRelatório de Classificação:\")\n",
    "print(classification_report(y_test, y_pred))"
   ]
  },
  {
   "cell_type": "markdown",
   "id": "1e5fa640",
   "metadata": {},
   "source": [
    "# Algoritmo KNN"
   ]
  },
  {
   "attachments": {
    "image.png": {
     "image/png": "[encoded data removed]"
    }
   },
   "cell_type": "markdown",
   "id": "b2c9fdf3",
   "metadata": {},
   "source": [
    "Primeiramente, precisamos decidir se vamos utilizar classificação ou regressão com o algoritmo KNN. \n",
    "Utilizamos classificação quando o rótulo for categórico ou discreto. Ou seja, quando desejamos prever uma categoria ou classe (por exemplo, 'sim' ou 'não', 'gato' ou 'cachorro'). O KNN irá prever a classe da nova amostra com base no voto da maioria dos seus k vizinhos mais próximos.\n",
    "Por outro lado, utilizamos regressão quando o rótulo for contínuo, ou seja, um número real (por exemplo: altura, preço, temperatura). Nesse caso, o KNN retorna a média (ou média ponderada) dos valores dos vizinhos mais próximos.\n",
    "\n",
    "Dessa forma, decidimos utilizar o KNN para classificação por três motivos principais:\n",
    "1. A variável-alvo é 'Cover_Type', que representa categorias de cobertura do solo - como diferentes tipos de florestas. Segundo a descrição da bae no UCI Machine Learning Repository, ela assume valores inteiros de 1 a 7, correspondendo a sete tipos distintos de cobertura florestal.\n",
    "\n",
    "2. Os gráficos da análise preliminar demonstram que 'Cover_Type' é uma variável discreta, com distribição claramente categórica. Isso confirma que se trata de uma tarefa de classificação multiclasse.\n",
    "\n",
    "3. O respositório analisado utiliza o algoritmo Naive Bayes, que é também um classificador. Comparar dois classificadores (Naive Bayes vs. KNN) mantém a coerência metodológica e permite avaliar desempenho em uma mesma tarefa supervisionada.\n",
    "\n",
    "### Gráfico de apoio\n",
    "\n",
    "![image.png](attachment:image.png)\n",
    "\n",
    "O gráfico acima mostra claramente que a variável-alvo não possui continuidade, sendo mais adequado o uso de algoritmos de classificação."
   ]
  },
  {
   "cell_type": "markdown",
   "id": "7129b711",
   "metadata": {},
   "source": [
    "Dessa forma, podemos iniciar a importação das bibliotecas necessárias, carregar o dataset e preparar o dataframe."
   ]
  },
  {
   "cell_type": "code",
   "execution_count": null,
   "id": "861c9460",
   "metadata": {},
   "outputs": [],
   "source": [
    "import pandas as pd\n",
    "import numpy as np\n",
    "import matplotlib.pyplot as plt\n",
    "import seaborn as sns\n",
    "from sklearn.datasets import fetch_covtype\n",
    "from sklearn.preprocessing import StandardScaler\n",
    "from sklearn.decomposition import PCA\n",
    "from sklearn.metrics import accuracy_score, confusion_matrix, classification_report\n",
    "from sklearn.model_selection import train_test_split\n",
    "from sklearn.neighbors import KNeighborsClassifier\n",
    "\n",
    "cov_type = fetch_covtype()\n",
    "\n",
    "# Preparando o DataFrame\n",
    "df = pd.DataFrame(cov_type.data, columns=[\n",
    "    'Elevation', 'Aspect', 'Slope', 'Horizontal_Distance_To_Hydrology',\n",
    "    'Vertical_Distance_To_Hydrology', 'Horizontal_Distance_To_Roadways',\n",
    "    'Hillshade_9am', 'Hillshade_Noon', 'Hillshade_3pm',\n",
    "    'Horizontal_Distance_To_Fire_Points'] + [f'Soil_Type_{i}' for i in range(40)] + \n",
    "    ['Wilderness_Area_1', 'Wilderness_Area_2', 'Wilderness_Area_3', 'Wilderness_Area_4'])\n",
    "\n",
    "df['target'] = cov_type.target"
   ]
  },
  {
   "cell_type": "markdown",
   "id": "509d62de",
   "metadata": {},
   "source": [
    "Depois, selecionamos aleatoriamente 50.000 amostras do conjunto de dados original com o objetivo de otimizar o tempo de processamento. Em seguida, separamos as variáveis independentes (armazenadas em X) da variável dependente (armazenada em y, que representa a classe a ser prevista). Por fim, dividimos os dados em conjuntos de treino e teste, mantendo a proporção original das classes (estratificação), sendo 70% para treino e 30% para teste. Essa divisão é feita antes da aplicação do PCA."
   ]
  },
  {
   "cell_type": "code",
   "execution_count": null,
   "id": "f89e6764",
   "metadata": {},
   "outputs": [],
   "source": [
    "# Separando X e y\n",
    "df_sample = df.sample(n=100000, random_state=42)\n",
    "X = df_sample.drop('target', axis=1)\n",
    "y = df_sample['target']\n",
    "\n",
    "# Dividindo em treino e teste (antes de aplicar o PCA)\n",
    "X_train, X_test, y_train, y_test = train_test_split(\n",
    "    X, y, test_size=0.3, random_state=42, stratify=y)"
   ]
  },
  {
   "cell_type": "markdown",
   "id": "22127c4c",
   "metadata": {},
   "source": [
    "Na próxima etapa, os dados são primeiro normalizados utilizando o StandardScaler, que padroniza as variáveis para que tenham média 0 e desvio padrão 1 — o que é essencial para muitos algoritmos de machine learning, especialmente o PCA. Após a normalização, aplicamos PCA com o parâmetro n_components=0.95, o que significa que o modelo irá manter o menor número possível de componentes principais que preservem 95% da variância original dos dados. Isso reduz a dimensionalidade do conjunto de dados, facilitando o processamento e potencialmente melhorando o desempenho do modelo. Por fim, é exibido o número de componentes que foram mantidas após a transformação."
   ]
  },
  {
   "cell_type": "code",
   "execution_count": null,
   "id": "9c6cad03",
   "metadata": {},
   "outputs": [],
   "source": [
    "# Normalizando os dados\n",
    "scaler = StandardScaler()\n",
    "X_train_scaled = scaler.fit_transform(X_train)\n",
    "X_test_scaled = scaler.transform(X_test)\n",
    "\n",
    "# Aplicando PCA\n",
    "pca = PCA(n_components=0.95) \n",
    "X_train_pca = pca.fit_transform(X_train_scaled)\n",
    "X_test_pca = pca.transform(X_test_scaled)\n",
    "\n",
    "# Gráfico de variância explicada\n",
    "plt.figure(figsize=(10, 5))\n",
    "plt.plot(np.cumsum(pca.explained_variance_ratio_), marker='o')\n",
    "plt.xlabel('Número de Componentes Principais')\n",
    "plt.ylabel('Variância Explicada Acumulada')\n",
    "plt.title('Variância Explicada por Componentes do PCA')\n",
    "plt.grid(True)\n",
    "plt.axhline(y=0.95, color='r', linestyle='--')  \n",
    "plt.show()\n",
    "\n",
    "# Verificando quantas componentes foram mantidas\n",
    "print(f\"Número de componentes principais mantidas: {pca.n_components_}\")"
   ]
  },
  {
   "cell_type": "markdown",
   "id": "28a3706e",
   "metadata": {},
   "source": [
    "Então, fazemos uma busca pelos melhores valores de k (de 1 a 20) para o algoritmo KNN, testando três diferentes métricas de distância: euclidean, manhattan e minkowski. Para cada combinação, calculamos a acurácia com os dados reduzidos pelo PCA. Em seguida, os resultados são plotados em um gráfico comparativo para visualizar o desempenho de cada métrica. Por fim, o código identifica e exibe qual valor de k gerou a melhor acurácia para cada tipo de distância."
   ]
  },
  {
   "cell_type": "code",
   "execution_count": null,
   "id": "79681b0b",
   "metadata": {},
   "outputs": [],
   "source": [
    "# Definindo o intervalo de valores de k para testar (1 a 20)\n",
    "k_values = range(1, 21)\n",
    "metrics = ['euclidean', 'manhattan', 'minkowski']\n",
    "\n",
    "# Dicionários para armazenar acurácias\n",
    "accuracies = {metric: [] for metric in metrics}\n",
    "\n",
    "# Testando diferentes valores de k e diferentes métricas de distância\n",
    "for metric in metrics:\n",
    "    for k in k_values:\n",
    "        knn = KNeighborsClassifier(n_neighbors=k, metric=metric)\n",
    "        knn.fit(X_train_pca, y_train)  \n",
    "        y_pred = knn.predict(X_test_pca)\n",
    "\n",
    "        accuracy = accuracy_score(y_test, y_pred)\n",
    "        accuracies[metric].append(accuracy)\n",
    "\n",
    "# Plotando os resultados para comparar as métricas de distância\n",
    "plt.figure(figsize=(10, 5))\n",
    "\n",
    "for metric in metrics:\n",
    "    plt.plot(k_values, accuracies[metric], '-o', label=metric)\n",
    "\n",
    "plt.title('Acurácia por k para diferentes métricas de distância')\n",
    "plt.xlabel('Número de vizinhos (k)')\n",
    "plt.ylabel('Acurácia')\n",
    "plt.legend()\n",
    "plt.grid(True)\n",
    "plt.xticks(k_values) \n",
    "plt.show()\n",
    "\n",
    "# Melhor k para cada tipo de distância\n",
    "melhor_k = {metric: k_values[np.argmax(accuracies[metric])] for metric in metrics}\n",
    "melhor_acuracia = {metric: max(accuracies[metric]) for metric in metrics}\n",
    "\n",
    "# Exibindo o melhor k e acurácia para cada métrica\n",
    "for metric in metrics:\n",
    "    print(f\"Melhor valor de k para {metric}: {melhor_k[metric]} com acurácia: {melhor_acuracia[metric]:.4f}\")"
   ]
  },
  {
   "cell_type": "markdown",
   "id": "5c742d2a",
   "metadata": {},
   "source": [
    "O próximo trecho de código define o modelo final do KNN usando a melhor métrica de distância (manhattan) e o melhor valor de k encontrado anteriormente. O modelo é treinado com os dados de treino já normalizados e transformados pelo PCA, e depois faz previsões nos dados de teste. Em seguida, são calculadas e exibidas as métricas de desempenho: acurácia, precisão e recall, permitindo avaliar a performance do modelo final otimizado."
   ]
  },
  {
   "cell_type": "code",
   "execution_count": null,
   "id": "d4c468ca",
   "metadata": {},
   "outputs": [],
   "source": [
    "# Definindo o melhor k e a melhor métrica com base nos resultados\n",
    "melhor_k = melhor_k['manhattan'] \n",
    "melhor_metric = 'manhattan'  \n",
    "\n",
    "# Modelo final com a melhor métrica\n",
    "knn_final = KNeighborsClassifier(n_neighbors=melhor_k, metric=melhor_metric)\n",
    "knn_final.fit(X_train_pca, y_train)\n",
    "y_pred_knn = knn_final.predict(X_test_pca)\n",
    "\n",
    "# Calculando métricas\n",
    "accuracy = accuracy_score(y_test, y_pred_knn)\n",
    "precision = precision_score(y_test, y_pred_knn, average='weighted')\n",
    "recall = recall_score(y_test, y_pred_knn, average='weighted')\n",
    "\n",
    "print(\"\\nAcurácia:\", round(accuracy, 4))\n",
    "print(\"Precisão:\", round(precision, 4))\n",
    "print(\"Recall:\", round(recall, 4))"
   ]
  },
  {
   "cell_type": "markdown",
   "id": "01812dbe",
   "metadata": {},
   "source": [
    "Logo após, o trecho abaixo gera a matriz de confusão do modelo KNN otimizado com PCA, permitindo visualizar como o classificador está acertando ou errando cada classe. A matriz é exibida com seaborn para facilitar a leitura. "
   ]
  },
  {
   "cell_type": "code",
   "execution_count": null,
   "id": "6cb6c1c2",
   "metadata": {},
   "outputs": [],
   "source": [
    "\n",
    "# Matriz de confusão\n",
    "cm = confusion_matrix(y_test, y_pred_knn)\n",
    "\n",
    "# Exibindo matriz de confusão com seaborn\n",
    "plt.figure(figsize=(10, 7))\n",
    "sns.heatmap(cm, annot=True, fmt='d', cmap='Blues', xticklabels=np.unique(y), yticklabels=np.unique(y))\n",
    "plt.xlabel(\"Classe Predita\")\n",
    "plt.ylabel(\"Classe Real\")\n",
    "plt.title(\"Matriz de Confusão - KNN com PCA\")\n",
    "plt.show()"
   ]
  },
  {
   "cell_type": "markdown",
   "id": "5e7ae3ce",
   "metadata": {},
   "source": [
    "## 📊 Análise da Matriz de Confusão – KNN com PCA\n",
    "\n",
    "Esta matriz de confusão mostra os resultados do classificador **K-Nearest Neighbors (KNN)** com aplicação de **PCA (Análise de Componentes Principais)** na redução de dimensionalidade.\n",
    "\n",
    "Cada **linha representa a classe real**, enquanto cada **coluna representa a classe predita**.\n",
    "\n",
    "---\n",
    "\n",
    "### 📌 Análise por Classe\n",
    "\n",
    "#### Classe 1 (real):\n",
    "- ✅ **4.653** acertos.\n",
    "- ❌ Principais erros:\n",
    "  - **776** amostras foram classificadas como classe 2.\n",
    "  - Alguns erros esparsos em classes 6 e 7.\n",
    "\n",
    "#### Classe 2 (real):\n",
    "- ✅ **6.253** acertos.\n",
    "- ❌ Principais erros:\n",
    "  - **827** amostras foram confundidas com classe 1.\n",
    "  - Pequenos erros em classes 3, 5 e 6.\n",
    "\n",
    "#### Classe 3 (real):\n",
    "- ✅ **740** acertos.\n",
    "- ❌ **105** confundidas com classe 6.\n",
    "- Outros erros menores: classes 2, 4 e 5.\n",
    "\n",
    "#### Classe 4 (real):\n",
    "- ✅ **40** acertos.\n",
    "- ❌ Confundida com classes 3 e 6.\n",
    "\n",
    "#### Classe 5 (real):\n",
    "- ✅ **140** acertos.\n",
    "- ❌ Alguns erros com classes 2 e 6.\n",
    "\n",
    "#### Classe 6 (real):\n",
    "- ✅ **268** acertos.\n",
    "- ❌ Confundida principalmente com classe 3 (112 casos).\n",
    "\n",
    "#### Classe 7 (real):\n",
    "- ✅ **441** acertos.\n",
    "- ❌ Pequenos erros em classes 1 e 2.\n",
    "\n",
    "---\n",
    "\n",
    "### ✅ Comparação com Naive Bayes\n",
    "\n",
    "- O **KNN com PCA apresentou desempenho significativamente melhor** do que o Naive Bayes, com menos confusões entre as classes.\n",
    "- As classes 1 e 2, que apresentavam grande confusão no Naive Bayes, foram melhor separadas aqui.\n",
    "- O modelo mostra **boa generalização**, mesmo com a redução de dimensionalidade.\n"
   ]
  },
  {
   "cell_type": "markdown",
   "id": "47b06b10",
   "metadata": {},
   "source": [
    "Por fim, é impresso o relatório de classificação, que traz as métricas detalhadas por classe (precisão, recall, f1-score e suporte), oferecendo uma avaliação completa do desempenho do modelo final em cada categoria."
   ]
  },
  {
   "cell_type": "code",
   "execution_count": null,
   "id": "d8dc8750",
   "metadata": {},
   "outputs": [],
   "source": [
    "# Avaliação final\n",
    "print(\"\\nRelatório de Classificação:\")\n",
    "print(classification_report(y_test, y_pred_knn))"
   ]
  },
  {
   "cell_type": "markdown",
   "id": "e4891bb9",
   "metadata": {},
   "source": [
    "# Comparando o relatório de classificação dos algoritmos para a base Cobertype\n",
    "\n",
    "Comparando os resultados dos dois algoritmos, podemos observar diferenças significativas no desempenho:\n",
    "\n",
    "### Naive Bayes:\n",
    "\n",
    "-  Acurácia: 0.4196\n",
    "\n",
    "-  Precisão: 0.6611\n",
    "\n",
    "-  Recall: 0.4196\n",
    "\n",
    "-  F1-Score (macro avg): 0.28\n",
    "\n",
    "-  F1-Score (weighted avg): 0.36\n",
    "\n",
    "O modelo de Naive Bayes apresenta uma acurácia de 41.96%, o que é bastante abaixo do desejado para uma boa classificação. A precisão é razoável (66.11%), mas o recall de 41.96% indica que o modelo tem dificuldade em identificar corretamente as instâncias da classe positiva. O desempenho do modelo é mais evidenciado pela média ponderada do f1-score (0.36), que também é baixa. O modelo tem bons resultados em algumas classes, mas apresenta dificuldades em classes com menor suporte, como as classes 4, 5, 6 e 7, que têm recall muito baixo, o que significa que ele falha em capturar muitas instâncias dessas classes.\n",
    "\n",
    "### KNN:\n",
    "\n",
    "-  Acurácia: 0.8357\n",
    "\n",
    "-  Precisão: 0.8359\n",
    "\n",
    "-  Recall: 0.8357\n",
    "\n",
    "-  F1-Score (macro avg): 0.73\n",
    "\n",
    "-  F1-Score (weighted avg): 0.84\n",
    "\n",
    "O KNN apresenta resultados bem melhores. A acurácia de 83.57% é muito superior à do Naive Bayes. A precisão e recall de 83.57% indicam que o modelo tem um bom equilíbrio entre prever corretamente as classes e capturar a maior parte das instâncias positivas. O f1-score médio ponderado de 0.84 é significativamente superior ao do Naive Bayes, o que indica que o KNN consegue fazer uma boa combinação de precisão e recall.\n",
    "\n",
    "### Conclusão:\n",
    "\n",
    "O modelo KNN apresentou resultados muito mais robustos em comparação com o Naive Bayes, com uma acurácia muito mais alta (83.57% contra 41.96%) e métricas de desempenho mais consistentes, como precisão e recall em torno de 83%, o que indica um modelo equilibrado e eficaz para esta tarefa de classificação.\n",
    "\n",
    "-  O Naive Bayes teve dificuldades com algumas classes, especialmente aquelas com menor suporte (como 4, 5, 6 e 7), e seu desempenho geral é mais fraco.\n",
    "\n",
    "-  O KNN, por outro lado, mostrou um desempenho mais robusto e uniforme em todas as classes, com destaque para a boa precisão e recall, tornando-o o modelo preferido para este conjunto de dados.\n",
    "\n",
    "Portanto, o KNN trouxe melhores resultados em termos de acurácia, precisão, recall e f1-score."
   ]
  }
 ],
 "metadata": {
  "kernelspec": {
   "display_name": "base",
   "language": "python",
   "name": "python3"
  },
  "language_info": {
   "codemirror_mode": {
    "name": "ipython",
    "version": 3
   },
   "file_extension": ".py",
   "mimetype": "text/x-python",
   "name": "python",
   "nbconvert_exporter": "python",
   "pygments_lexer": "ipython3",
   "version": "3.10.9"
  }
 },
 "nbformat": 4,
 "nbformat_minor": 5
}
